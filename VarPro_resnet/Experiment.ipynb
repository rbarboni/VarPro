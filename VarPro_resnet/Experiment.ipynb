{
 "cells": [
  {
   "cell_type": "code",
   "execution_count": 1,
   "metadata": {},
   "outputs": [
    {
     "name": "stdout",
     "output_type": "stream",
     "text": [
      "WARNING: using cpu, computation may be slow !\n"
     ]
    }
   ],
   "source": [
    "import sys\n",
    "sys.path.append('..')\n",
    "\n",
    "from VarPro import *\n",
    "from resnet import *\n",
    "import torchvision\n",
    "import torchvision.transforms.v2 as transforms\n",
    "from torchinfo import summary\n",
    "import torch_optimizer"
   ]
  },
  {
   "cell_type": "code",
   "execution_count": 2,
   "metadata": {},
   "outputs": [],
   "source": [
    "resnet = ResNet20(in_channels=3, num_classes=10)"
   ]
  },
  {
   "cell_type": "code",
   "execution_count": 3,
   "metadata": {},
   "outputs": [],
   "source": [
    "optimizer = torch_optimizer.Shampoo(resnet.parameters(), lr=1e-3)"
   ]
  },
  {
   "cell_type": "code",
   "execution_count": 4,
   "metadata": {},
   "outputs": [],
   "source": [
    "optimizer.step()"
   ]
  },
  {
   "cell_type": "code",
   "execution_count": 3,
   "metadata": {},
   "outputs": [
    {
     "data": {
      "text/plain": [
       "===============================================================================================\n",
       "Layer (type:depth-idx)                        Output Shape              Param #\n",
       "===============================================================================================\n",
       "VarProModel                                   [128, 10]                 --\n",
       "├─ResNetFeatureModel: 1-1                     [128, 64]                 --\n",
       "│    └─Conv2d: 2-1                            [128, 16, 32, 32]         432\n",
       "│    └─BatchNorm2d: 2-2                       [128, 16, 32, 32]         32\n",
       "│    └─Sequential: 2-3                        [128, 16, 32, 32]         --\n",
       "│    │    └─BasicBlock: 3-1                   [128, 16, 32, 32]         4,672\n",
       "│    │    └─BasicBlock: 3-2                   [128, 16, 32, 32]         4,672\n",
       "│    │    └─BasicBlock: 3-3                   [128, 16, 32, 32]         4,672\n",
       "│    └─Sequential: 2-4                        [128, 32, 16, 16]         --\n",
       "│    │    └─BasicBlock: 3-4                   [128, 32, 16, 16]         14,528\n",
       "│    │    └─BasicBlock: 3-5                   [128, 32, 16, 16]         18,560\n",
       "│    │    └─BasicBlock: 3-6                   [128, 32, 16, 16]         18,560\n",
       "│    └─Sequential: 2-5                        [128, 64, 8, 8]           --\n",
       "│    │    └─BasicBlock: 3-7                   [128, 64, 8, 8]           57,728\n",
       "│    │    └─BasicBlock: 3-8                   [128, 64, 8, 8]           73,984\n",
       "│    │    └─BasicBlock: 3-9                   [128, 64, 8, 8]           73,984\n",
       "├─Linear: 1-2                                 [128, 10]                 640\n",
       "===============================================================================================\n",
       "Total params: 272,464\n",
       "Trainable params: 272,464\n",
       "Non-trainable params: 0\n",
       "Total mult-adds (Units.GIGABYTES): 5.22\n",
       "===============================================================================================\n",
       "Input size (MB): 1.57\n",
       "Forward/backward pass size (MB): 411.05\n",
       "Params size (MB): 1.09\n",
       "Estimated Total Size (MB): 413.71\n",
       "==============================================================================================="
      ]
     },
     "execution_count": 3,
     "metadata": {},
     "output_type": "execute_result"
    }
   ],
   "source": [
    "summary(resnet, input_size=(128, 3, 32, 32))"
   ]
  },
  {
   "cell_type": "code",
   "execution_count": 26,
   "metadata": {},
   "outputs": [],
   "source": [
    "transform_train = transforms.Compose([\n",
    "    transforms.RandomCrop(32, padding=4),\n",
    "    transforms.RandomHorizontalFlip(),\n",
    "    transforms.ToImage(),\n",
    "    transforms.ToDtype(torch.float32, scale=True),\n",
    "    transforms.Normalize((0.4914, 0.4822, 0.4465), (0.2023, 0.1994, 0.2010)),\n",
    "])\n",
    "\n",
    "trainset = torchvision.datasets.CIFAR10(root='./cifar10_data',\n",
    "                                        train=True,\n",
    "                                        download=True,\n",
    "                                        transform=transform_train)\n",
    "\n",
    "train_loader = torch.utils.data.DataLoader(trainset, batch_size=128, shuffle=True, num_workers=2)"
   ]
  },
  {
   "cell_type": "code",
   "execution_count": 4,
   "metadata": {},
   "outputs": [],
   "source": [
    "lr = 0.1\n",
    "lr_outer = 1\n",
    "\n",
    "optimizer = torch.optim.SGD(resnet.feature_model.parameters(), lr=lr)\n",
    "optimizer.add_param_group({'lr':lr_outer, 'params': resnet.outer.weight})"
   ]
  },
  {
   "cell_type": "code",
   "execution_count": 11,
   "metadata": {},
   "outputs": [
    {
     "data": {
      "text/plain": [
       "63"
      ]
     },
     "execution_count": 11,
     "metadata": {},
     "output_type": "execute_result"
    }
   ],
   "source": [
    "len(optimizer.param_groups[0]['params'])"
   ]
  },
  {
   "cell_type": "code",
   "execution_count": 27,
   "metadata": {},
   "outputs": [],
   "source": [
    "inputs, targets = next(iter(train_loader))"
   ]
  },
  {
   "cell_type": "code",
   "execution_count": 29,
   "metadata": {},
   "outputs": [],
   "source": [
    "resnet.train()\n",
    "features = resnet.feature_model(inputs).clone().detach()\n",
    "K = features.T @ features / (128 * resnet.width)\n",
    "eigs = torch.linalg.eigvalsh(K)"
   ]
  },
  {
   "cell_type": "code",
   "execution_count": 30,
   "metadata": {},
   "outputs": [
    {
     "data": {
      "text/plain": [
       "tensor([1.3589e-05, 1.7258e-05, 1.9717e-05, 2.2558e-05, 2.3510e-05, 2.6498e-05,\n",
       "        3.0294e-05, 3.2984e-05, 3.5156e-05, 3.8657e-05, 4.0876e-05, 4.5773e-05,\n",
       "        4.7469e-05, 5.0658e-05, 5.7257e-05, 6.0873e-05, 6.7141e-05, 6.8490e-05,\n",
       "        7.6432e-05, 7.9916e-05, 8.4277e-05, 8.6774e-05, 9.5045e-05, 1.0437e-04,\n",
       "        1.0953e-04, 1.1668e-04, 1.2874e-04, 1.3311e-04, 1.3476e-04, 1.5180e-04,\n",
       "        1.6005e-04, 1.6311e-04, 1.8554e-04, 2.0661e-04, 2.0896e-04, 2.3205e-04,\n",
       "        2.5217e-04, 2.6833e-04, 2.8632e-04, 2.9998e-04, 3.3102e-04, 3.3513e-04,\n",
       "        3.8025e-04, 4.0632e-04, 4.3050e-04, 5.2501e-04, 5.3300e-04, 5.9587e-04,\n",
       "        6.3342e-04, 7.0085e-04, 7.1826e-04, 7.7026e-04, 9.5181e-04, 1.0302e-03,\n",
       "        1.2381e-03, 1.3006e-03, 1.4931e-03, 1.6736e-03, 1.7862e-03, 2.3030e-03,\n",
       "        2.8882e-03, 4.6772e-03, 2.3112e-02, 6.5812e-01])"
      ]
     },
     "execution_count": 30,
     "metadata": {},
     "output_type": "execute_result"
    }
   ],
   "source": [
    "eigs"
   ]
  },
  {
   "cell_type": "code",
   "execution_count": 35,
   "metadata": {},
   "outputs": [
    {
     "data": {
      "text/plain": [
       "(array([10., 16., 16., 11.,  8.,  1.,  1.,  0.,  0.,  1.]),\n",
       " array([-11.20621872, -10.12743378,  -9.04864883,  -7.96986437,\n",
       "         -6.89107943,  -5.81229448,  -4.73351002,  -3.65472507,\n",
       "         -2.57594013,  -1.49715519,  -0.41837031]),\n",
       " <BarContainer object of 10 artists>)"
      ]
     },
     "execution_count": 35,
     "metadata": {},
     "output_type": "execute_result"
    },
    {
     "data": {
      "image/png": "[encoded data removed]",
      "text/plain": [
       "<Figure size 640x480 with 1 Axes>"
      ]
     },
     "metadata": {},
     "output_type": "display_data"
    }
   ],
   "source": [
    "plt.hist(torch.log(eigs), bins=10)\n",
    "#plt.yscale('log')\n",
    "#plt.xscale('log')"
   ]
  },
  {
   "cell_type": "code",
   "execution_count": 5,
   "metadata": {},
   "outputs": [],
   "source": [
    "## Training\n",
    "lmbda = 1e-1\n",
    "time_scale = 2**(-10)\n",
    "lr = 512 * time_scale\n",
    "\n",
    "# biased or unbiased loss\n",
    "criterion = VarProCriterion(lmbda, num_classes=10)\n",
    "                                   \n",
    "optimizer = torch.optim.SGD(resnet.feature_model.parameters(), lr=lr)\n",
    "#optimizer.add_param_group({'lr': 5*student_width*lmbda, 'params': student.outer.weight})"
   ]
  },
  {
   "cell_type": "code",
   "execution_count": 8,
   "metadata": {},
   "outputs": [],
   "source": [
    "problem = LearningProblem(resnet, train_loader, optimizer, criterion)"
   ]
  }
 ],
 "metadata": {
  "kernelspec": {
   "display_name": "base",
   "language": "python",
   "name": "python3"
  },
  "language_info": {
   "codemirror_mode": {
    "name": "ipython",
    "version": 3
   },
   "file_extension": ".py",
   "mimetype": "text/x-python",
   "name": "python",
   "nbconvert_exporter": "python",
   "pygments_lexer": "ipython3",
   "version": "3.12.9"
  }
 },
 "nbformat": 4,
 "nbformat_minor": 2
}

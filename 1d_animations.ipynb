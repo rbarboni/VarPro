{
 "cells": [
  {
   "cell_type": "code",
   "execution_count": 1,
   "id": "b1dae20b",
   "metadata": {},
   "outputs": [],
   "source": [
    "import gzip\n",
    "import os\n",
    "import pickle\n",
    "from tqdm import tqdm\n",
    "from Utilities import *\n",
    "\n",
    "import matplotlib.pyplot as plt\n",
    "import numpy as np"
   ]
  },
  {
   "cell_type": "code",
   "execution_count": 2,
   "id": "2c7fe510",
   "metadata": {},
   "outputs": [],
   "source": [
    "plt.rcParams.update({\"pdf.fonttype\": 42, 'text.usetex': True})"
   ]
  },
  {
   "cell_type": "code",
   "execution_count": 3,
   "id": "d7eea727",
   "metadata": {},
   "outputs": [],
   "source": [
    "seed_list = [0, 1, 2, 3, 4, 5]"
   ]
  },
  {
   "cell_type": "markdown",
   "id": "34e465a3",
   "metadata": {},
   "source": [
    "# Exact solution in 1d"
   ]
  },
  {
   "cell_type": "code",
   "execution_count": 4,
   "id": "3605b1d2",
   "metadata": {},
   "outputs": [],
   "source": [
    "path = 'diffusion_relu1d_gamma100_ts-10.pkl.gz'\n",
    "with gzip.open(path, 'rb') as f:\n",
    "    diffusion = pickle.load(f)"
   ]
  },
  {
   "cell_type": "code",
   "execution_count": 5,
   "id": "f956e8f1",
   "metadata": {},
   "outputs": [
    {
     "name": "stderr",
     "output_type": "stream",
     "text": [
      "100%|██████████| 6/6 [00:24<00:00,  4.00s/it]\n"
     ]
    }
   ],
   "source": [
    "dict = {}\n",
    "\n",
    "for seed in tqdm(seed_list):\n",
    "    ## unbiased risk, regularization lambda = -4.0\n",
    "    path = f'VarPro_ReLU_1d_unbiased/results/width1024_lmbda-4.0_gamma100.0_N4096_ts-10.0_seed{seed}.pkl.gz'\n",
    "    with gzip.open(path, 'rb') as f:\n",
    "        dict[seed] = pickle.load(f)"
   ]
  },
  {
   "cell_type": "code",
   "execution_count": 6,
   "id": "314901c7",
   "metadata": {},
   "outputs": [],
   "source": [
    "M = diffusion.shape[1]\n",
    "X = np.linspace(-np.pi, np.pi, M+1)\n",
    "X = 0.5 * (X[1:]+X[:-1])"
   ]
  },
  {
   "cell_type": "code",
   "execution_count": 22,
   "id": "4b8de9d9",
   "metadata": {},
   "outputs": [
    {
     "name": "stdout",
     "output_type": "stream",
     "text": [
      "Creating animation...\n"
     ]
    },
    {
     "name": "stderr",
     "output_type": "stream",
     "text": [
      "/Users/rbarboni/Documents/GitHub/VarPro/Utilities.py:181: RuntimeWarning: divide by zero encountered in divide\n",
      "  return 2 * np.arctan( x[:,1] / (1+x[:,0]))\n"
     ]
    },
    {
     "data": {
      "image/png": "[encoded data removed]",
      "text/plain": [
       "<Figure size 650x250 with 2 Axes>"
      ]
     },
     "metadata": {},
     "output_type": "display_data"
    }
   ],
   "source": [
    "time = 10\n",
    "fps = 10\n",
    "frames = time * fps\n",
    "\n",
    "max_time = 8\n",
    "max_frame = max_time * 2**10\n",
    "rate = max_frame // frames\n",
    "idx = np.arange(0, max_frame, rate)\n",
    "\n",
    "p=0.25\n",
    "fig, ax = plt.subplots(1, 2, figsize=(26 * p, 10 * p), constrained_layout=True, sharey=True)\n",
    "\n",
    "f_star = normalize(1 / (1 + 100 * np.sin(X/2)**2) + 0.5 / (1 + 100 * np.sin((X-0.4*np.pi)/2)**2))\n",
    "ax[0].plot(X, f_star, color='black', linestyle='--', linewidth=1.5, label='Teacher')\n",
    "ax[1].plot(X, f_star, color='black', linestyle='--', linewidth=1.5, label='Teacher')\n",
    "\n",
    "\n",
    "cax0, = ax[0].plot([], [], color='red', linewidth=1.5, label='Student')\n",
    "cax1, = ax[1].plot([], [], color='red', linewidth=1.5, label='Student')\n",
    "\n",
    "def update(i):\n",
    "    cax0.set_data(X, diffusion[idx[i]])\n",
    "\n",
    "    f = np.empty(0)\n",
    "    for seed in seed_list:\n",
    "        w = dict[seed]['student_state_list'][idx[i]]['feature_model.weight'].numpy()\n",
    "        f = np.append(f, circle_to_line(w))\n",
    "    z, density = gaussian_conv(f, N_points=M, scale=0.1)\n",
    "    cax1.set_data(z, density)\n",
    "\n",
    "    return [cax0, cax1]\n",
    "\n",
    "ax[0].set_title('Ultra-fast diffusion')\n",
    "ax[1].set_title('VarPro')\n",
    "ax[0].legend()\n",
    "\n",
    "print(\"Creating animation...\")\n",
    "anim = animation.FuncAnimation(fig, update, frames, blit=False, interval=1)"
   ]
  },
  {
   "cell_type": "code",
   "execution_count": 23,
   "id": "4a7cab1e",
   "metadata": {},
   "outputs": [
    {
     "name": "stderr",
     "output_type": "stream",
     "text": [
      "/Users/rbarboni/Documents/GitHub/VarPro/Utilities.py:181: RuntimeWarning: divide by zero encountered in divide\n",
      "  return 2 * np.arctan( x[:,1] / (1+x[:,0]))\n"
     ]
    }
   ],
   "source": [
    "writer = animation.PillowWriter(fps=10)\n",
    "anim.save(\"diffusion_animation_kde.gif\", writer=writer)"
   ]
  },
  {
   "cell_type": "code",
   "execution_count": 12,
   "id": "ec63d2aa",
   "metadata": {},
   "outputs": [],
   "source": [
    "x = np.empty(0)"
   ]
  },
  {
   "cell_type": "code",
   "execution_count": 13,
   "id": "a9b9dbb0",
   "metadata": {},
   "outputs": [
    {
     "data": {
      "text/plain": [
       "array([], dtype=float64)"
      ]
     },
     "execution_count": 13,
     "metadata": {},
     "output_type": "execute_result"
    }
   ],
   "source": [
    "x"
   ]
  },
  {
   "cell_type": "code",
   "execution_count": 16,
   "id": "baf18e2a",
   "metadata": {},
   "outputs": [
    {
     "data": {
      "text/plain": [
       "array([1., 2., 3.])"
      ]
     },
     "execution_count": 16,
     "metadata": {},
     "output_type": "execute_result"
    }
   ],
   "source": [
    "np.append(x, [1, 2, 3])"
   ]
  },
  {
   "cell_type": "code",
   "execution_count": 17,
   "id": "12f0f84b",
   "metadata": {},
   "outputs": [
    {
     "data": {
      "text/plain": [
       "array([], dtype=float64)"
      ]
     },
     "execution_count": 17,
     "metadata": {},
     "output_type": "execute_result"
    }
   ],
   "source": [
    "x"
   ]
  },
  {
   "cell_type": "code",
   "execution_count": null,
   "id": "31323e1e",
   "metadata": {},
   "outputs": [],
   "source": []
  }
 ],
 "metadata": {
  "kernelspec": {
   "display_name": "base",
   "language": "python",
   "name": "python3"
  },
  "language_info": {
   "codemirror_mode": {
    "name": "ipython",
    "version": 3
   },
   "file_extension": ".py",
   "mimetype": "text/x-python",
   "name": "python",
   "nbconvert_exporter": "python",
   "pygments_lexer": "ipython3",
   "version": "3.12.9"
  }
 },
 "nbformat": 4,
 "nbformat_minor": 5
}
